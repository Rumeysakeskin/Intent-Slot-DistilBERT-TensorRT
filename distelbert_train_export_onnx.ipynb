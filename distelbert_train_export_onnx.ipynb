{
  "nbformat": 4,
  "nbformat_minor": 0,
  "metadata": {
    "colab": {
      "provenance": [],
      "authorship_tag": "ABX9TyMNobu2ziXk1IhIxu0i1x4x",
      "include_colab_link": true
    },
    "kernelspec": {
      "name": "python3",
      "display_name": "Python 3"
    },
    "language_info": {
      "name": "python"
    }
  },
  "cells": [
    {
      "cell_type": "markdown",
      "metadata": {
        "id": "view-in-github",
        "colab_type": "text"
      },
      "source": [
        "<a href=\"https://colab.research.google.com/github/Rumeysakeskin/NLP-Onnx-TensorRT/blob/main/distelbert_train_export_onnx.ipynb\" target=\"_parent\"><img src=\"https://colab.research.google.com/assets/colab-badge.svg\" alt=\"Open In Colab\"/></a>"
      ]
    },
    {
      "cell_type": "code",
      "source": [
        "# install NeMo\n",
        "BRANCH = 'main'\n",
        "!python -m pip install git+https://github.com/NVIDIA/NeMo.git@$BRANCH#egg=nemo_toolkit[nlp]"
      ],
      "metadata": {
        "id": "aYZUezrqKcVF"
      },
      "execution_count": null,
      "outputs": []
    },
    {
      "cell_type": "code",
      "source": [
        "!git clone https://github.com/NVIDIA/apex.git\n",
        "%cd apex\n",
        "!pip install -v --disable-pip-version-check --no-build-isolation --no-cache-dir ./\n",
        "%cd .."
      ],
      "metadata": {
        "id": "R2eLFdOrKemx"
      },
      "execution_count": null,
      "outputs": []
    },
    {
      "cell_type": "markdown",
      "source": [
        "TRAINING"
      ],
      "metadata": {
        "id": "kC7UmZNMKy-J"
      }
    },
    {
      "cell_type": "code",
      "source": [
        "!(python intent_slot_classification_jetson.py \\\n",
        "  --dataset='./nemo_format/' \\\n",
        "  --config='confing/intent_slot_jetson.yaml' \\\n",
        "  --exp-dir='./nemo_experiments_jetson'\\\n",
        "  --model='distilbert-base-uncased' \\\n",
        "  --epochs=10)"
      ],
      "metadata": {
        "id": "kkMJeX9pJ4pB"
      },
      "execution_count": null,
      "outputs": []
    },
    {
      "cell_type": "markdown",
      "source": [
        "EXPORT ONNX"
      ],
      "metadata": {
        "id": "eV-ykk88K1B_"
      }
    },
    {
      "cell_type": "code",
      "source": [
        "import os\n",
        "from nemo.collections import nlp as nemo_nlp\n",
        "\n",
        "def export_model(nemo_checkpoint_path, onnx_filename):\n",
        "\n",
        "    checkpoint_path = os.path.join(nemo_checkpoint_path)\n",
        "    # load the model from this checkpoint\n",
        "    eval_model = nemo_nlp.models.IntentSlotClassificationModel.load_from_checkpoint(checkpoint_path)\n",
        "    eval_model.eval()\n",
        "    eval_model.export(output=onnx_filename, onnx_opset_version=13)\n",
        "\n",
        "\n",
        "nemo_checkpoint_path = \"./nemo_experiments_jetson/IntentSlot/2023-06-21_10-57-00/checkpoints/epoch=19-step=5960.ckpt\" #ENGLISH\n",
        "\n",
        "onnx_filename = \"ENGLISH_nemo_model_DISTEL_BERT.onnx\"\n",
        "export_model(nemo_checkpoint_path, onnx_filename)"
      ],
      "metadata": {
        "id": "IBA447DKKjhr"
      },
      "execution_count": null,
      "outputs": []
    }
  ]
}