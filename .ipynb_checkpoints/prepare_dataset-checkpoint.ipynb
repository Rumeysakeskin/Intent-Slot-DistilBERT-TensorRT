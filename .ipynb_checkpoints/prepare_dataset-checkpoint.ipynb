{
 "cells": [
  {
   "cell_type": "code",
   "execution_count": 23,
   "id": "2e9a6e81",
   "metadata": {},
   "outputs": [],
   "source": [
    "# install NeMo\n",
    "BRANCH = 'main'\n",
    "!python -m pip install git+https://github.com/NVIDIA/NeMo.git@$BRANCH#egg=nemo_toolkit[nlp]\n",
    "import wget"
   ]
  },
  {
   "cell_type": "code",
   "execution_count": 25,
   "id": "5ded42e7",
   "metadata": {},
   "outputs": [
    {
     "name": "stdout",
     "output_type": "stream",
     "text": [
      "100% [................................................................................] 5967 / 5967"
     ]
    },
    {
     "data": {
      "text/plain": [
       "'./assistant_utils.py'"
      ]
     },
     "execution_count": 25,
     "metadata": {},
     "output_type": "execute_result"
    }
   ],
   "source": [
    "#DATA_DIR = \".\"\n",
    "#NEMO_DIR = '.'\n",
    "# download the converter files from github for the purpose of this tutorial\n",
    "#wget.download(f'https://raw.githubusercontent.com/NVIDIA/NeMo/{BRANCH}/scripts/dataset_processing/nlp/intent_and_slot/import_datasets.py', NEMO_DIR)\n",
    "#wget.download(f'https://raw.githubusercontent.com/NVIDIA/NeMo/{BRANCH}/scripts/dataset_processing/nlp/intent_and_slot/assistant_utils.py', NEMO_DIR)"
   ]
  },
  {
   "cell_type": "code",
   "execution_count": null,
   "id": "66a374aa",
   "metadata": {},
   "outputs": [],
   "source": [
    "# convert the dataset to the NeMo format\n",
    "!python import_datasets.py --dataset_name=assistant --source_data_dir=dataset --target_data_dir=nemo_format"
   ]
  }
 ],
 "metadata": {
  "kernelspec": {
   "display_name": "torcht2s",
   "language": "python",
   "name": "torcht2s"
  },
  "language_info": {
   "codemirror_mode": {
    "name": "ipython",
    "version": 3
   },
   "file_extension": ".py",
   "mimetype": "text/x-python",
   "name": "python",
   "nbconvert_exporter": "python",
   "pygments_lexer": "ipython3",
   "version": "3.8.13"
  }
 },
 "nbformat": 4,
 "nbformat_minor": 5
}
